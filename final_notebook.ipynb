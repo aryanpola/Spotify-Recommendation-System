{
 "cells": [
  {
   "cell_type": "code",
   "execution_count": null,
   "id": "0295215d",
   "metadata": {},
   "outputs": [],
   "source": [
    "# Importing all classes and functions from the module\n",
    "from Spotify_Recommender_Main import *"
   ]
  },
  {
   "cell_type": "code",
   "execution_count": null,
   "id": "00180d98",
   "metadata": {},
   "outputs": [],
   "source": [
    "# Creating and processing the dataset : Source - Kaggle\n",
    "# Details: 960K Spotify Songs With Lyrics data\n",
    "# Link: https://www.kaggle.com/datasets/bwandowando/spotify-songs-with-attributes-and-lyrics?select=songs_with_lyrics_and_timestamps.csv\n",
    "\n",
    "init_df = pd.read_csv(\"songs_with_attributes_and_lyrics.csv\", index_col=0)\n",
    "init_df.drop(['key', 'mode', 'lyrics'], axis=1, inplace=True)\n",
    "feature_columns = ['danceability', 'energy', 'loudness', \n",
    "                'speechiness', 'acousticness', 'instrumentalness', \n",
    "                'liveness', 'valence', 'tempo', 'duration_ms']\n",
    "\n",
    "song_ids = init_df.index.tolist()\n",
    "scaler = MinMaxScaler()\n",
    "init_df[feature_columns] = scaler.fit_transform(init_df[feature_columns])\n",
    "\n",
    "# Creating a numpy feature matrix from the song features\n",
    "feature_matrix = np.ascontiguousarray(init_df[feature_columns].values.astype('float32'))"
   ]
  },
  {
   "cell_type": "code",
   "execution_count": null,
   "id": "450c9afc",
   "metadata": {},
   "outputs": [],
   "source": [
    "# FAISS (Facebook AI Similarity Search) to perform fast similarity search using cosine similarity\n",
    "faiss.normalize_L2(feature_matrix)\n",
    "\n",
    "index = faiss.IndexFlatIP(len(feature_columns))  # Cosine similarity\n",
    "index.add(feature_matrix)"
   ]
  },
  {
   "cell_type": "code",
   "execution_count": null,
   "id": "232d13a3",
   "metadata": {},
   "outputs": [],
   "source": [
    "# 1/4\n",
    "# This code block is for User Data -\n",
    "\n",
    "# Creating the server\n",
    "server = SpotifyAuthServer(config_path='spotify_config.json')\n",
    "# Launching it in a separate thread\n",
    "server_thread = threading.Thread(target=server.run, kwargs={'host': '127.0.0.1', 'port': 8888})\n",
    "server_thread.setDaemon(True)  # Allows the thread to exit when the main program exits\n",
    "server_thread.start()\n",
    "\n",
    "print(\"Server is running. Visit http://127.0.0.1:8888/ in your browser to log in with Spotify.\")"
   ]
  },
  {
   "cell_type": "code",
   "execution_count": null,
   "id": "05398325",
   "metadata": {},
   "outputs": [],
   "source": [
    "# 2/4\n",
    "\n",
    "# Code to wait for the authorization code\n",
    "timeout = 30  # seconds\n",
    "start_time = time.time()\n",
    "while server.auth_code is None and (time.time() - start_time) < timeout:\n",
    "    print(\"Waiting for authorization code...\")\n",
    "    time.sleep(2)\n",
    "\n",
    "if server.auth_code:\n",
    "    print(\"Authorization code:\", server.auth_code)\n",
    "    token_data = server.exchange_token()\n",
    "    print(\"Token Data:\", token_data)\n",
    "else:\n",
    "    print(\"Timed out waiting for authorization code.\")\n",
    "\n",
    "access_token = token_data['access_token']\n",
    "refresh_token_ = token_data['refresh_token']\n",
    "headers = {\n",
    "    'Authorization': f\"Bearer {access_token}\"\n",
    "}"
   ]
  },
  {
   "cell_type": "code",
   "execution_count": null,
   "id": "40346d2e",
   "metadata": {},
   "outputs": [],
   "source": [
    "# 3/4\n",
    "\n",
    "# Test block to check if API is working properly: Should print recently played songs\n",
    "url = 'https://api.spotify.com/v1/me/player/recently-played?limit=20'\n",
    "response = requests.get(url, headers=headers)\n",
    "\n",
    "if response.status_code == 200:\n",
    "    recent_tracks = response.json()\n",
    "    for item in recent_tracks['items']:\n",
    "        track = item['track']\n",
    "        print(track['name'], 'by', ', '.join([a['name'] for a in track['artists']]))\n",
    "else:\n",
    "    print(response.status_code, response.text)"
   ]
  },
  {
   "cell_type": "code",
   "execution_count": null,
   "id": "48a933f8",
   "metadata": {},
   "outputs": [],
   "source": [
    "# 4/4\n",
    "\n",
    "# Datapipeline for Spotify User Data:\n",
    "with open('spotify_config.json', 'r') as f:\n",
    "        credentials = json.load(f)\n",
    "\n",
    "# Fetching User data\n",
    "user = SpotifyUserData(access_token, refresh_token_, credentials['client_id'], credentials['client_secret'])\n",
    "fetcher = SpotifyUserDataFetcher(user)\n",
    "\n",
    "top_tracks_json = fetcher.fetch_top_tracks(time_range='medium_term', limit=20)          # → List[str] (track_id)\n",
    "recent_tracks_json = fetcher.fetch_recent_tracks(limit=20)                              # → List[Tuple[str, str]] (track_id, played_at)\n",
    "saved_tracks_json = fetcher.fetch_saved_tracks(limit=20, offset=0)                      # → List[Tuple[str, str]] (track_id, added_at)\n",
    "top_artists_json = fetcher.fetch_top_artists(time_range='medium_term', limit=20)        # → List[Tuple[str, int]] (artist_id, popularity)\n",
    "\n",
    "# Test, printing nicely\n",
    "# print(json.dumps(saved_tracks_json, indent=2))\n"
   ]
  },
  {
   "cell_type": "code",
   "execution_count": null,
   "id": "aea3e739",
   "metadata": {},
   "outputs": [],
   "source": [
    "# From this block onwards, the code is for processing user data and generating a source based user profiles\n",
    "# 1/2\n",
    "\n",
    "with open('source_weights.json', 'r') as f:\n",
    "    source_weights = json.load(f)\n",
    "\n",
    "# print(source_weights)\n",
    "\n",
    "# Rank user tracks based on the source weights\n",
    "ranked_track_ids, track_contributions = fetcher.rank_user_tracks(\n",
    "    top_tracks_time_range='medium_term',\n",
    "    top_tracks_limit=20,\n",
    "    recent_tracks_limit=20,\n",
    "    saved_tracks_limit=20,\n",
    "    saved_tracks_offset=0,\n",
    "    top_artists_time_range='medium_term',\n",
    "    top_artists_limit=10,\n",
    "    source_weights=source_weights\n",
    ")\n",
    "\n",
    "# Only for checking purposes: \n",
    "# print(ranked_track_ids)\n",
    "# pretty_contributions = HelperFunctions.nested_defaultdict_to_dict(track_contributions)\n",
    "# print(json.dumps(pretty_contributions, indent=2))\n"
   ]
  },
  {
   "cell_type": "code",
   "execution_count": null,
   "id": "154827be",
   "metadata": {},
   "outputs": [],
   "source": [
    "# 2/2 \n",
    "\n",
    "# Building the user profile based on the ranked track IDs\n",
    "user_source_profile = HelperFunctions.build_user_source_profiles(track_contributions, init_df, feature_columns)\n",
    "# Only for checking/debugging purposes:\n",
    "# print(\"User Source Profiles:\", user_source_profile)"
   ]
  },
  {
   "cell_type": "code",
   "execution_count": null,
   "id": "ec803109",
   "metadata": {},
   "outputs": [],
   "source": [
    "# Creating Recommendations:\n",
    "\n",
    "# Fetching the top recommendations based on each source (top songs, saved songs, recent songs, top artists)\n",
    "source_recommendations = {}\n",
    "\n",
    "for source, vector in user_source_profile.items():\n",
    "    normalized_vector = vector.reshape(1, -1).copy()\n",
    "    faiss.normalize_L2(normalized_vector)\n",
    "    D, I = index.search(normalized_vector, k=10)\n",
    "    recommended_ids = [song_ids[i] for i in I[0]]\n",
    "    \n",
    "    source_recommendations[source] = {\n",
    "        'song_ids': recommended_ids,\n",
    "        'scores': D[0].tolist()\n",
    "    }\n",
    "\n",
    "for key in source_recommendations:\n",
    "    print(f\"Source: {key}\")\n",
    "    print(\"Recommended song IDs:\", source_recommendations[key]['song_ids'])\n",
    "    print(\"Scores:\", source_recommendations[key]['scores'])\n",
    "    HelperFunctions.print_song_names_and_artists(source_recommendations[key]['song_ids'], init_df)\n",
    "    print(\"-\" * 40)"
   ]
  },
  {
   "cell_type": "code",
   "execution_count": null,
   "id": "62498d37",
   "metadata": {},
   "outputs": [],
   "source": [
    "# Creating instances of the bandit RL Model and the feedback collector:\n",
    "bandit = EpsilonGreedyBandit(sources=['top_tracks', 'recent_tracks', 'saved_tracks', 'top_artist_tracks'], epsilon=0.1)\n",
    "\n",
    "collector = RecommendationFeedbackCollector(\n",
    "    user_source_profile=user_source_profile,\n",
    "    index=index,\n",
    "    song_ids=song_ids,\n",
    "    init_df=init_df,\n",
    "    print_song_names_and_artists=HelperFunctions.print_song_names_and_artists\n",
    ")"
   ]
  },
  {
   "cell_type": "code",
   "execution_count": null,
   "id": "3bae7a86",
   "metadata": {},
   "outputs": [],
   "source": [
    "# Collecting feedback from the user:\n",
    "source_recommendations, user_feedback = collector.collect_feedback()"
   ]
  },
  {
   "cell_type": "code",
   "execution_count": null,
   "id": "651fd460",
   "metadata": {},
   "outputs": [],
   "source": [
    "# Using user feedback to update the source weights:\n",
    "for source, ratings in user_feedback.items():\n",
    "    # Filter out None ratings (i.e., skipped songs)\n",
    "    valid_ratings = [r for r in ratings if r is not None]\n",
    "    \n",
    "    # Store the initial weight before processing any ratings\n",
    "    initial_weight = bandit.source_weights[source]\n",
    "    \n",
    "    # Only update if there are valid ratings\n",
    "    if valid_ratings:\n",
    "        for rating in valid_ratings:\n",
    "            bandit.update_source_weights(source, rating)\n",
    "    \n",
    "    # Print the initial and final weight\n",
    "    print(f\"Source: {source}\")\n",
    "    print(f\"Initial weight: {initial_weight}\")\n",
    "    print(f\"Final updated weight: {bandit.source_weights[source]}\")\n",
    "    print(\"-\" * 40)"
   ]
  },
  {
   "cell_type": "code",
   "execution_count": null,
   "id": "2a104b15",
   "metadata": {},
   "outputs": [],
   "source": [
    "# Saving the updated source weights to a JSON file:\n",
    "with open('source_weights.json', 'w') as f:\n",
    "    json.dump(source_weights, f, indent=4)"
   ]
  }
 ],
 "metadata": {
  "kernelspec": {
   "display_name": "Python 3",
   "language": "python",
   "name": "python3"
  },
  "language_info": {
   "codemirror_mode": {
    "name": "ipython",
    "version": 3
   },
   "file_extension": ".py",
   "mimetype": "text/x-python",
   "name": "python",
   "nbconvert_exporter": "python",
   "pygments_lexer": "ipython3",
   "version": "3.11.9"
  }
 },
 "nbformat": 4,
 "nbformat_minor": 5
}
